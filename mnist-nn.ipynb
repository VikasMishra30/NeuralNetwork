{
 "cells": [
  {
   "cell_type": "code",
   "execution_count": 1,
   "id": "191aa46a",
   "metadata": {
    "execution": {
     "iopub.execute_input": "2024-05-17T18:55:04.139727Z",
     "iopub.status.busy": "2024-05-17T18:55:04.139326Z",
     "iopub.status.idle": "2024-05-17T18:55:05.034514Z",
     "shell.execute_reply": "2024-05-17T18:55:05.033508Z"
    },
    "papermill": {
     "duration": 0.903696,
     "end_time": "2024-05-17T18:55:05.037160",
     "exception": false,
     "start_time": "2024-05-17T18:55:04.133464",
     "status": "completed"
    },
    "tags": []
   },
   "outputs": [],
   "source": [
    "import numpy as np\n",
    "import pandas as pd\n",
    "from matplotlib import pyplot as plt"
   ]
  },
  {
   "cell_type": "code",
   "execution_count": 2,
   "id": "136bd2ba",
   "metadata": {
    "execution": {
     "iopub.execute_input": "2024-05-17T18:55:05.047143Z",
     "iopub.status.busy": "2024-05-17T18:55:05.046566Z",
     "iopub.status.idle": "2024-05-17T18:55:08.474194Z",
     "shell.execute_reply": "2024-05-17T18:55:08.472741Z"
    },
    "papermill": {
     "duration": 3.43521,
     "end_time": "2024-05-17T18:55:08.476769",
     "exception": false,
     "start_time": "2024-05-17T18:55:05.041559",
     "status": "completed"
    },
    "tags": []
   },
   "outputs": [],
   "source": [
    "data = pd.read_csv('/kaggle/input/digit-recognizer/train.csv')"
   ]
  },
  {
   "cell_type": "code",
   "execution_count": 3,
   "id": "bbe5a3db",
   "metadata": {
    "execution": {
     "iopub.execute_input": "2024-05-17T18:55:08.485921Z",
     "iopub.status.busy": "2024-05-17T18:55:08.485528Z",
     "iopub.status.idle": "2024-05-17T18:55:08.512061Z",
     "shell.execute_reply": "2024-05-17T18:55:08.511102Z"
    },
    "papermill": {
     "duration": 0.034301,
     "end_time": "2024-05-17T18:55:08.514866",
     "exception": false,
     "start_time": "2024-05-17T18:55:08.480565",
     "status": "completed"
    },
    "tags": []
   },
   "outputs": [
    {
     "data": {
      "text/html": [
       "<div>\n",
       "<style scoped>\n",
       "    .dataframe tbody tr th:only-of-type {\n",
       "        vertical-align: middle;\n",
       "    }\n",
       "\n",
       "    .dataframe tbody tr th {\n",
       "        vertical-align: top;\n",
       "    }\n",
       "\n",
       "    .dataframe thead th {\n",
       "        text-align: right;\n",
       "    }\n",
       "</style>\n",
       "<table border=\"1\" class=\"dataframe\">\n",
       "  <thead>\n",
       "    <tr style=\"text-align: right;\">\n",
       "      <th></th>\n",
       "      <th>label</th>\n",
       "      <th>pixel0</th>\n",
       "      <th>pixel1</th>\n",
       "      <th>pixel2</th>\n",
       "      <th>pixel3</th>\n",
       "      <th>pixel4</th>\n",
       "      <th>pixel5</th>\n",
       "      <th>pixel6</th>\n",
       "      <th>pixel7</th>\n",
       "      <th>pixel8</th>\n",
       "      <th>...</th>\n",
       "      <th>pixel774</th>\n",
       "      <th>pixel775</th>\n",
       "      <th>pixel776</th>\n",
       "      <th>pixel777</th>\n",
       "      <th>pixel778</th>\n",
       "      <th>pixel779</th>\n",
       "      <th>pixel780</th>\n",
       "      <th>pixel781</th>\n",
       "      <th>pixel782</th>\n",
       "      <th>pixel783</th>\n",
       "    </tr>\n",
       "  </thead>\n",
       "  <tbody>\n",
       "    <tr>\n",
       "      <th>0</th>\n",
       "      <td>1</td>\n",
       "      <td>0</td>\n",
       "      <td>0</td>\n",
       "      <td>0</td>\n",
       "      <td>0</td>\n",
       "      <td>0</td>\n",
       "      <td>0</td>\n",
       "      <td>0</td>\n",
       "      <td>0</td>\n",
       "      <td>0</td>\n",
       "      <td>...</td>\n",
       "      <td>0</td>\n",
       "      <td>0</td>\n",
       "      <td>0</td>\n",
       "      <td>0</td>\n",
       "      <td>0</td>\n",
       "      <td>0</td>\n",
       "      <td>0</td>\n",
       "      <td>0</td>\n",
       "      <td>0</td>\n",
       "      <td>0</td>\n",
       "    </tr>\n",
       "    <tr>\n",
       "      <th>1</th>\n",
       "      <td>0</td>\n",
       "      <td>0</td>\n",
       "      <td>0</td>\n",
       "      <td>0</td>\n",
       "      <td>0</td>\n",
       "      <td>0</td>\n",
       "      <td>0</td>\n",
       "      <td>0</td>\n",
       "      <td>0</td>\n",
       "      <td>0</td>\n",
       "      <td>...</td>\n",
       "      <td>0</td>\n",
       "      <td>0</td>\n",
       "      <td>0</td>\n",
       "      <td>0</td>\n",
       "      <td>0</td>\n",
       "      <td>0</td>\n",
       "      <td>0</td>\n",
       "      <td>0</td>\n",
       "      <td>0</td>\n",
       "      <td>0</td>\n",
       "    </tr>\n",
       "    <tr>\n",
       "      <th>2</th>\n",
       "      <td>1</td>\n",
       "      <td>0</td>\n",
       "      <td>0</td>\n",
       "      <td>0</td>\n",
       "      <td>0</td>\n",
       "      <td>0</td>\n",
       "      <td>0</td>\n",
       "      <td>0</td>\n",
       "      <td>0</td>\n",
       "      <td>0</td>\n",
       "      <td>...</td>\n",
       "      <td>0</td>\n",
       "      <td>0</td>\n",
       "      <td>0</td>\n",
       "      <td>0</td>\n",
       "      <td>0</td>\n",
       "      <td>0</td>\n",
       "      <td>0</td>\n",
       "      <td>0</td>\n",
       "      <td>0</td>\n",
       "      <td>0</td>\n",
       "    </tr>\n",
       "    <tr>\n",
       "      <th>3</th>\n",
       "      <td>4</td>\n",
       "      <td>0</td>\n",
       "      <td>0</td>\n",
       "      <td>0</td>\n",
       "      <td>0</td>\n",
       "      <td>0</td>\n",
       "      <td>0</td>\n",
       "      <td>0</td>\n",
       "      <td>0</td>\n",
       "      <td>0</td>\n",
       "      <td>...</td>\n",
       "      <td>0</td>\n",
       "      <td>0</td>\n",
       "      <td>0</td>\n",
       "      <td>0</td>\n",
       "      <td>0</td>\n",
       "      <td>0</td>\n",
       "      <td>0</td>\n",
       "      <td>0</td>\n",
       "      <td>0</td>\n",
       "      <td>0</td>\n",
       "    </tr>\n",
       "    <tr>\n",
       "      <th>4</th>\n",
       "      <td>0</td>\n",
       "      <td>0</td>\n",
       "      <td>0</td>\n",
       "      <td>0</td>\n",
       "      <td>0</td>\n",
       "      <td>0</td>\n",
       "      <td>0</td>\n",
       "      <td>0</td>\n",
       "      <td>0</td>\n",
       "      <td>0</td>\n",
       "      <td>...</td>\n",
       "      <td>0</td>\n",
       "      <td>0</td>\n",
       "      <td>0</td>\n",
       "      <td>0</td>\n",
       "      <td>0</td>\n",
       "      <td>0</td>\n",
       "      <td>0</td>\n",
       "      <td>0</td>\n",
       "      <td>0</td>\n",
       "      <td>0</td>\n",
       "    </tr>\n",
       "  </tbody>\n",
       "</table>\n",
       "<p>5 rows × 785 columns</p>\n",
       "</div>"
      ],
      "text/plain": [
       "   label  pixel0  pixel1  pixel2  pixel3  pixel4  pixel5  pixel6  pixel7  \\\n",
       "0      1       0       0       0       0       0       0       0       0   \n",
       "1      0       0       0       0       0       0       0       0       0   \n",
       "2      1       0       0       0       0       0       0       0       0   \n",
       "3      4       0       0       0       0       0       0       0       0   \n",
       "4      0       0       0       0       0       0       0       0       0   \n",
       "\n",
       "   pixel8  ...  pixel774  pixel775  pixel776  pixel777  pixel778  pixel779  \\\n",
       "0       0  ...         0         0         0         0         0         0   \n",
       "1       0  ...         0         0         0         0         0         0   \n",
       "2       0  ...         0         0         0         0         0         0   \n",
       "3       0  ...         0         0         0         0         0         0   \n",
       "4       0  ...         0         0         0         0         0         0   \n",
       "\n",
       "   pixel780  pixel781  pixel782  pixel783  \n",
       "0         0         0         0         0  \n",
       "1         0         0         0         0  \n",
       "2         0         0         0         0  \n",
       "3         0         0         0         0  \n",
       "4         0         0         0         0  \n",
       "\n",
       "[5 rows x 785 columns]"
      ]
     },
     "execution_count": 3,
     "metadata": {},
     "output_type": "execute_result"
    }
   ],
   "source": [
    "data.head()"
   ]
  },
  {
   "cell_type": "code",
   "execution_count": 4,
   "id": "950617fa",
   "metadata": {
    "execution": {
     "iopub.execute_input": "2024-05-17T18:55:08.525276Z",
     "iopub.status.busy": "2024-05-17T18:55:08.524254Z",
     "iopub.status.idle": "2024-05-17T18:55:08.664749Z",
     "shell.execute_reply": "2024-05-17T18:55:08.663730Z"
    },
    "papermill": {
     "duration": 0.148152,
     "end_time": "2024-05-17T18:55:08.667173",
     "exception": false,
     "start_time": "2024-05-17T18:55:08.519021",
     "status": "completed"
    },
    "tags": []
   },
   "outputs": [],
   "source": [
    "data = np.array(data)"
   ]
  },
  {
   "cell_type": "code",
   "execution_count": 5,
   "id": "fdd08bb0",
   "metadata": {
    "execution": {
     "iopub.execute_input": "2024-05-17T18:55:08.676460Z",
     "iopub.status.busy": "2024-05-17T18:55:08.676124Z",
     "iopub.status.idle": "2024-05-17T18:55:09.379558Z",
     "shell.execute_reply": "2024-05-17T18:55:09.378570Z"
    },
    "papermill": {
     "duration": 0.710744,
     "end_time": "2024-05-17T18:55:09.381936",
     "exception": false,
     "start_time": "2024-05-17T18:55:08.671192",
     "status": "completed"
    },
    "tags": []
   },
   "outputs": [],
   "source": [
    "m, n = data.shape\n",
    "np.random.shuffle(data) # shuffle before splitting into dev and training sets\n",
    "\n",
    "data_dev = data[0:1000].T\n",
    "Y_dev = data_dev[0]\n",
    "X_dev = data_dev[1:n]\n",
    "X_dev = X_dev / 255.\n",
    "\n",
    "data_train = data[1000:m].T\n",
    "Y_train = data_train[0]\n",
    "X_train = data_train[1:n]\n",
    "X_train = X_train / 255.\n",
    "_,m_train = X_train.shape"
   ]
  },
  {
   "cell_type": "code",
   "execution_count": 6,
   "id": "ff76507f",
   "metadata": {
    "execution": {
     "iopub.execute_input": "2024-05-17T18:55:09.392699Z",
     "iopub.status.busy": "2024-05-17T18:55:09.391889Z",
     "iopub.status.idle": "2024-05-17T18:55:09.403516Z",
     "shell.execute_reply": "2024-05-17T18:55:09.402394Z"
    },
    "papermill": {
     "duration": 0.01938,
     "end_time": "2024-05-17T18:55:09.405742",
     "exception": false,
     "start_time": "2024-05-17T18:55:09.386362",
     "status": "completed"
    },
    "tags": []
   },
   "outputs": [],
   "source": [
    "def init_params():\n",
    "    W1 = np.random.rand(10, 784) - 0.5\n",
    "    b1 = np.random.rand(10, 1) - 0.5\n",
    "    W2 = np.random.rand(10, 10) - 0.5\n",
    "    b2 = np.random.rand(10, 1) - 0.5\n",
    "    return W1, b1, W2, b2\n",
    "\n",
    "def ReLU(Z):\n",
    "    return np.maximum(Z, 0)\n",
    "\n",
    "def softmax(Z):\n",
    "    A = np.exp(Z) / sum(np.exp(Z))\n",
    "    return A\n",
    "    \n",
    "def forward_prop(W1, b1, W2, b2, X):\n",
    "    Z1 = W1.dot(X) + b1\n",
    "    A1 = ReLU(Z1)\n",
    "    Z2 = W2.dot(A1) + b2\n",
    "    A2 = softmax(Z2)\n",
    "    return Z1, A1, Z2, A2\n",
    "\n",
    "def ReLU_deriv(Z):\n",
    "    return Z > 0\n",
    "\n",
    "def one_hot(Y):\n",
    "    one_hot_Y = np.zeros((Y.size, Y.max() + 1))\n",
    "    one_hot_Y[np.arange(Y.size), Y] = 1\n",
    "    one_hot_Y = one_hot_Y.T\n",
    "    return one_hot_Y\n",
    "\n",
    "def backward_prop(Z1, A1, Z2, A2, W1, W2, X, Y):\n",
    "    one_hot_Y = one_hot(Y)\n",
    "    dZ2 = A2 - one_hot_Y\n",
    "    dW2 = 1 / m * dZ2.dot(A1.T)\n",
    "    db2 = 1 / m * np.sum(dZ2)\n",
    "    dZ1 = W2.T.dot(dZ2) * ReLU_deriv(Z1)\n",
    "    dW1 = 1 / m * dZ1.dot(X.T)\n",
    "    db1 = 1 / m * np.sum(dZ1)\n",
    "    return dW1, db1, dW2, db2\n",
    "\n",
    "def update_params(W1, b1, W2, b2, dW1, db1, dW2, db2, alpha):\n",
    "    W1 = W1 - alpha * dW1\n",
    "    b1 = b1 - alpha * db1    \n",
    "    W2 = W2 - alpha * dW2  \n",
    "    b2 = b2 - alpha * db2    \n",
    "    return W1, b1, W2, b2"
   ]
  },
  {
   "cell_type": "code",
   "execution_count": 7,
   "id": "7b300c59",
   "metadata": {
    "execution": {
     "iopub.execute_input": "2024-05-17T18:55:09.415130Z",
     "iopub.status.busy": "2024-05-17T18:55:09.414761Z",
     "iopub.status.idle": "2024-05-17T18:55:09.420017Z",
     "shell.execute_reply": "2024-05-17T18:55:09.418893Z"
    },
    "papermill": {
     "duration": 0.0126,
     "end_time": "2024-05-17T18:55:09.422277",
     "exception": false,
     "start_time": "2024-05-17T18:55:09.409677",
     "status": "completed"
    },
    "tags": []
   },
   "outputs": [],
   "source": [
    "def get_predictions(A2):\n",
    "    return np.argmax(A2, 0)\n",
    "\n",
    "def get_accuracy(predictions, Y):\n",
    "    print(predictions, Y)\n",
    "    return np.sum(predictions == Y) / Y.size"
   ]
  },
  {
   "cell_type": "code",
   "execution_count": 8,
   "id": "006a32bc",
   "metadata": {
    "execution": {
     "iopub.execute_input": "2024-05-17T18:55:09.431758Z",
     "iopub.status.busy": "2024-05-17T18:55:09.431384Z",
     "iopub.status.idle": "2024-05-17T18:55:09.438069Z",
     "shell.execute_reply": "2024-05-17T18:55:09.437043Z"
    },
    "papermill": {
     "duration": 0.013881,
     "end_time": "2024-05-17T18:55:09.440214",
     "exception": false,
     "start_time": "2024-05-17T18:55:09.426333",
     "status": "completed"
    },
    "tags": []
   },
   "outputs": [],
   "source": [
    "def gradient_descent(X, Y, alpha, iterations):\n",
    "    W1, b1, W2, b2 = init_params()\n",
    "    for i in range(iterations):\n",
    "        Z1, A1, Z2, A2 = forward_prop(W1, b1, W2, b2, X)\n",
    "        dW1, db1, dW2, db2 = backward_prop(Z1, A1, Z2, A2, W1, W2, X, Y)\n",
    "        W1, b1, W2, b2 = update_params(W1, b1, W2, b2, dW1, db1, dW2, db2, alpha)\n",
    "        if i % 10 == 0:\n",
    "            print(\"Iteration: \", i)\n",
    "            predictions = get_predictions(A2)\n",
    "            print(get_accuracy(predictions, Y))\n",
    "    return W1, b1, W2, b2"
   ]
  },
  {
   "cell_type": "code",
   "execution_count": 9,
   "id": "7edbd834",
   "metadata": {
    "execution": {
     "iopub.execute_input": "2024-05-17T18:55:09.450413Z",
     "iopub.status.busy": "2024-05-17T18:55:09.450065Z",
     "iopub.status.idle": "2024-05-17T18:56:02.979668Z",
     "shell.execute_reply": "2024-05-17T18:56:02.978425Z"
    },
    "papermill": {
     "duration": 53.538842,
     "end_time": "2024-05-17T18:56:02.983151",
     "exception": false,
     "start_time": "2024-05-17T18:55:09.444309",
     "status": "completed"
    },
    "tags": []
   },
   "outputs": [
    {
     "name": "stdout",
     "output_type": "stream",
     "text": [
      "Iteration:  0\n",
      "[0 0 0 ... 0 0 2] [7 0 1 ... 2 5 5]\n",
      "0.10356097560975609\n",
      "Iteration:  10\n",
      "[0 0 1 ... 3 0 2] [7 0 1 ... 2 5 5]\n",
      "0.20846341463414633\n",
      "Iteration:  20\n",
      "[0 0 1 ... 2 0 2] [7 0 1 ... 2 5 5]\n",
      "0.2691219512195122\n",
      "Iteration:  30\n",
      "[7 0 1 ... 2 0 2] [7 0 1 ... 2 5 5]\n",
      "0.3127560975609756\n",
      "Iteration:  40\n",
      "[7 0 1 ... 2 0 2] [7 0 1 ... 2 5 5]\n",
      "0.34968292682926827\n",
      "Iteration:  50\n",
      "[8 0 1 ... 2 0 9] [7 0 1 ... 2 5 5]\n",
      "0.3842926829268293\n",
      "Iteration:  60\n",
      "[8 0 1 ... 2 0 9] [7 0 1 ... 2 5 5]\n",
      "0.41185365853658534\n",
      "Iteration:  70\n",
      "[8 0 1 ... 2 0 9] [7 0 1 ... 2 5 5]\n",
      "0.43678048780487805\n",
      "Iteration:  80\n",
      "[7 0 1 ... 2 0 9] [7 0 1 ... 2 5 5]\n",
      "0.46307317073170734\n",
      "Iteration:  90\n",
      "[7 0 1 ... 2 0 9] [7 0 1 ... 2 5 5]\n",
      "0.48841463414634145\n",
      "Iteration:  100\n",
      "[7 0 1 ... 2 0 9] [7 0 1 ... 2 5 5]\n",
      "0.5149756097560976\n",
      "Iteration:  110\n",
      "[7 0 1 ... 2 0 9] [7 0 1 ... 2 5 5]\n",
      "0.5401463414634147\n",
      "Iteration:  120\n",
      "[7 0 1 ... 2 0 4] [7 0 1 ... 2 5 5]\n",
      "0.5655853658536585\n",
      "Iteration:  130\n",
      "[7 0 1 ... 2 0 4] [7 0 1 ... 2 5 5]\n",
      "0.5872195121951219\n",
      "Iteration:  140\n",
      "[7 0 1 ... 2 0 4] [7 0 1 ... 2 5 5]\n",
      "0.6086829268292683\n",
      "Iteration:  150\n",
      "[7 0 1 ... 2 0 4] [7 0 1 ... 2 5 5]\n",
      "0.6277560975609756\n",
      "Iteration:  160\n",
      "[7 0 1 ... 2 0 5] [7 0 1 ... 2 5 5]\n",
      "0.6475365853658537\n",
      "Iteration:  170\n",
      "[7 0 1 ... 2 0 5] [7 0 1 ... 2 5 5]\n",
      "0.6641951219512195\n",
      "Iteration:  180\n",
      "[7 0 1 ... 2 0 5] [7 0 1 ... 2 5 5]\n",
      "0.6784634146341464\n",
      "Iteration:  190\n",
      "[7 0 1 ... 2 0 5] [7 0 1 ... 2 5 5]\n",
      "0.6914146341463414\n",
      "Iteration:  200\n",
      "[7 0 1 ... 2 0 5] [7 0 1 ... 2 5 5]\n",
      "0.7033658536585365\n",
      "Iteration:  210\n",
      "[7 0 1 ... 2 0 5] [7 0 1 ... 2 5 5]\n",
      "0.7167317073170731\n",
      "Iteration:  220\n",
      "[7 0 1 ... 2 0 5] [7 0 1 ... 2 5 5]\n",
      "0.7274634146341463\n",
      "Iteration:  230\n",
      "[7 0 1 ... 2 0 5] [7 0 1 ... 2 5 5]\n",
      "0.7370243902439024\n",
      "Iteration:  240\n",
      "[7 0 1 ... 2 0 5] [7 0 1 ... 2 5 5]\n",
      "0.7458048780487805\n",
      "Iteration:  250\n",
      "[7 0 1 ... 2 0 5] [7 0 1 ... 2 5 5]\n",
      "0.7534146341463415\n",
      "Iteration:  260\n",
      "[7 0 1 ... 2 0 5] [7 0 1 ... 2 5 5]\n",
      "0.76\n",
      "Iteration:  270\n",
      "[7 0 1 ... 2 0 5] [7 0 1 ... 2 5 5]\n",
      "0.7660243902439025\n",
      "Iteration:  280\n",
      "[7 0 1 ... 2 0 5] [7 0 1 ... 2 5 5]\n",
      "0.7723658536585366\n",
      "Iteration:  290\n",
      "[7 0 1 ... 2 0 5] [7 0 1 ... 2 5 5]\n",
      "0.7775365853658537\n",
      "Iteration:  300\n",
      "[7 0 1 ... 2 5 5] [7 0 1 ... 2 5 5]\n",
      "0.7824878048780488\n",
      "Iteration:  310\n",
      "[7 0 1 ... 2 5 5] [7 0 1 ... 2 5 5]\n",
      "0.7868536585365854\n",
      "Iteration:  320\n",
      "[7 0 1 ... 2 5 5] [7 0 1 ... 2 5 5]\n",
      "0.791\n",
      "Iteration:  330\n",
      "[7 0 1 ... 2 5 5] [7 0 1 ... 2 5 5]\n",
      "0.7945121951219513\n",
      "Iteration:  340\n",
      "[7 0 1 ... 2 5 5] [7 0 1 ... 2 5 5]\n",
      "0.797609756097561\n",
      "Iteration:  350\n",
      "[7 0 1 ... 2 5 5] [7 0 1 ... 2 5 5]\n",
      "0.801219512195122\n",
      "Iteration:  360\n",
      "[7 0 1 ... 2 5 5] [7 0 1 ... 2 5 5]\n",
      "0.8041951219512196\n",
      "Iteration:  370\n",
      "[7 0 1 ... 2 5 5] [7 0 1 ... 2 5 5]\n",
      "0.8072926829268293\n",
      "Iteration:  380\n",
      "[7 0 1 ... 2 5 5] [7 0 1 ... 2 5 5]\n",
      "0.8103658536585366\n",
      "Iteration:  390\n",
      "[7 0 1 ... 2 5 5] [7 0 1 ... 2 5 5]\n",
      "0.8130731707317073\n",
      "Iteration:  400\n",
      "[7 0 1 ... 2 5 5] [7 0 1 ... 2 5 5]\n",
      "0.8156097560975609\n",
      "Iteration:  410\n",
      "[7 0 1 ... 2 5 5] [7 0 1 ... 2 5 5]\n",
      "0.8182682926829268\n",
      "Iteration:  420\n",
      "[7 0 1 ... 2 5 5] [7 0 1 ... 2 5 5]\n",
      "0.8210487804878048\n",
      "Iteration:  430\n",
      "[7 0 1 ... 2 5 5] [7 0 1 ... 2 5 5]\n",
      "0.8231463414634146\n",
      "Iteration:  440\n",
      "[7 0 1 ... 2 5 5] [7 0 1 ... 2 5 5]\n",
      "0.8251219512195122\n",
      "Iteration:  450\n",
      "[7 0 1 ... 2 5 5] [7 0 1 ... 2 5 5]\n",
      "0.8269512195121951\n",
      "Iteration:  460\n",
      "[7 0 1 ... 2 5 5] [7 0 1 ... 2 5 5]\n",
      "0.8293170731707317\n",
      "Iteration:  470\n",
      "[7 0 1 ... 2 5 5] [7 0 1 ... 2 5 5]\n",
      "0.8310975609756097\n",
      "Iteration:  480\n",
      "[7 0 1 ... 2 5 5] [7 0 1 ... 2 5 5]\n",
      "0.8328048780487805\n",
      "Iteration:  490\n",
      "[7 0 1 ... 2 5 5] [7 0 1 ... 2 5 5]\n",
      "0.8342682926829268\n"
     ]
    }
   ],
   "source": [
    "# Run gradient descent\n",
    "W1, b1, W2, b2 = gradient_descent(X_train, Y_train, 0.10, 500)"
   ]
  },
  {
   "cell_type": "code",
   "execution_count": 10,
   "id": "252aa581",
   "metadata": {
    "execution": {
     "iopub.execute_input": "2024-05-17T18:56:03.009482Z",
     "iopub.status.busy": "2024-05-17T18:56:03.008956Z",
     "iopub.status.idle": "2024-05-17T18:56:03.021495Z",
     "shell.execute_reply": "2024-05-17T18:56:03.020316Z"
    },
    "papermill": {
     "duration": 0.029744,
     "end_time": "2024-05-17T18:56:03.024919",
     "exception": false,
     "start_time": "2024-05-17T18:56:02.995175",
     "status": "completed"
    },
    "tags": []
   },
   "outputs": [],
   "source": [
    "def make_predictions(X, W1, b1, W2, b2):\n",
    "    _, _, _, A2 = forward_prop(W1, b1, W2, b2, X)\n",
    "    predictions = get_predictions(A2)\n",
    "    return predictions\n",
    "\n",
    "def test_prediction(index, W1, b1, W2, b2):\n",
    "    current_image = X_train[:, index, None]\n",
    "    prediction = make_predictions(X_train[:, index, None], W1, b1, W2, b2)\n",
    "    label = Y_train[index]\n",
    "    print(\"Prediction: \", prediction)\n",
    "    print(\"Label: \", label)\n",
    "    \n",
    "    current_image = current_image.reshape((28, 28)) * 255\n",
    "    plt.gray()\n",
    "    plt.imshow(current_image, interpolation='nearest')\n",
    "    plt.show()    "
   ]
  },
  {
   "cell_type": "code",
   "execution_count": 11,
   "id": "54e1261a",
   "metadata": {
    "execution": {
     "iopub.execute_input": "2024-05-17T18:56:03.052109Z",
     "iopub.status.busy": "2024-05-17T18:56:03.051580Z",
     "iopub.status.idle": "2024-05-17T18:56:03.755151Z",
     "shell.execute_reply": "2024-05-17T18:56:03.754069Z"
    },
    "papermill": {
     "duration": 0.7202,
     "end_time": "2024-05-17T18:56:03.758321",
     "exception": false,
     "start_time": "2024-05-17T18:56:03.038121",
     "status": "completed"
    },
    "tags": []
   },
   "outputs": [
    {
     "name": "stdout",
     "output_type": "stream",
     "text": [
      "Prediction:  [7]\n",
      "Label:  7\n"
     ]
    },
    {
     "data": {
      "image/png": "[encoded data removed]",
      "text/plain": [
       "<Figure size 640x480 with 1 Axes>"
      ]
     },
     "metadata": {},
     "output_type": "display_data"
    },
    {
     "name": "stdout",
     "output_type": "stream",
     "text": [
      "Prediction:  [0]\n",
      "Label:  0\n"
     ]
    },
    {
     "data": {
      "image/png": "[encoded data removed]",
      "text/plain": [
       "<Figure size 640x480 with 1 Axes>"
      ]
     },
     "metadata": {},
     "output_type": "display_data"
    },
    {
     "name": "stdout",
     "output_type": "stream",
     "text": [
      "Prediction:  [1]\n",
      "Label:  1\n"
     ]
    },
    {
     "data": {
      "image/png": "[encoded data removed]",
      "text/plain": [
       "<Figure size 640x480 with 1 Axes>"
      ]
     },
     "metadata": {},
     "output_type": "display_data"
    },
    {
     "name": "stdout",
     "output_type": "stream",
     "text": [
      "Prediction:  [9]\n",
      "Label:  9\n"
     ]
    },
    {
     "data": {
      "image/png": "[encoded data removed]",
      "text/plain": [
       "<Figure size 640x480 with 1 Axes>"
      ]
     },
     "metadata": {},
     "output_type": "display_data"
    }
   ],
   "source": [
    "test_prediction(0, W1, b1, W2, b2)\n",
    "test_prediction(1, W1, b1, W2, b2)\n",
    "test_prediction(2, W1, b1, W2, b2)\n",
    "test_prediction(3, W1, b1, W2, b2)"
   ]
  },
  {
   "cell_type": "code",
   "execution_count": 12,
   "id": "0df3bb95",
   "metadata": {
    "execution": {
     "iopub.execute_input": "2024-05-17T18:56:03.778109Z",
     "iopub.status.busy": "2024-05-17T18:56:03.777704Z",
     "iopub.status.idle": "2024-05-17T18:56:03.805223Z",
     "shell.execute_reply": "2024-05-17T18:56:03.804061Z"
    },
    "papermill": {
     "duration": 0.041952,
     "end_time": "2024-05-17T18:56:03.808790",
     "exception": false,
     "start_time": "2024-05-17T18:56:03.766838",
     "status": "completed"
    },
    "tags": []
   },
   "outputs": [
    {
     "name": "stdout",
     "output_type": "stream",
     "text": [
      "[9 5 1 3 9 0 0 3 0 4 6 1 9 0 0 4 4 3 4 5 7 1 5 4 9 6 1 3 1 6 9 1 7 3 5 6 3\n",
      " 5 0 3 7 1 7 0 5 6 3 8 7 4 7 8 7 3 8 2 0 0 3 2 5 6 1 1 3 7 5 9 1 7 5 1 1 9\n",
      " 8 9 6 5 7 2 3 9 8 8 4 2 6 2 4 4 9 4 1 0 2 1 4 1 8 3 9 0 6 8 7 0 7 7 3 3 1\n",
      " 9 4 0 6 3 4 4 8 2 9 9 1 5 8 9 0 8 2 2 1 3 4 7 8 2 6 7 8 1 1 7 0 0 9 4 1 0\n",
      " 5 8 4 1 6 1 7 3 1 8 8 1 7 8 8 2 0 3 5 8 5 7 1 0 1 5 9 6 9 3 0 5 7 7 9 1 5\n",
      " 5 6 6 6 1 6 8 4 7 3 2 7 3 7 4 4 4 1 2 5 2 6 1 6 5 7 1 9 7 4 3 5 9 5 8 4 0\n",
      " 9 6 2 5 4 6 2 9 3 7 6 7 9 9 6 3 6 8 4 2 9 5 5 3 3 4 0 1 8 5 7 1 5 7 8 4 0\n",
      " 2 9 8 3 2 2 1 9 2 1 0 8 2 2 9 1 8 3 3 9 1 6 1 8 5 8 1 2 2 9 8 7 4 7 9 2 4\n",
      " 1 8 0 0 9 1 8 2 9 6 0 1 4 0 0 7 3 7 0 5 8 2 2 0 6 1 0 0 6 1 3 0 9 5 7 0 9\n",
      " 0 0 3 9 6 1 0 5 2 7 7 8 0 9 4 2 8 5 4 6 5 7 8 1 3 0 1 3 4 3 1 8 8 3 9 3 6\n",
      " 0 3 6 0 6 2 2 2 7 8 4 6 7 8 7 5 5 1 8 4 8 1 4 9 5 2 6 2 2 9 8 3 2 3 7 9 9\n",
      " 0 3 8 6 4 2 6 1 0 5 8 4 9 4 3 6 4 3 7 3 8 0 3 4 2 5 9 2 6 7 3 6 5 7 4 1 5\n",
      " 3 4 5 6 5 6 0 1 3 9 7 6 1 8 8 0 4 1 5 1 7 9 3 8 5 8 4 4 7 7 6 3 4 4 8 1 9\n",
      " 0 9 7 8 4 9 3 4 5 3 4 8 2 3 9 4 1 4 7 9 1 1 1 6 5 9 5 5 4 3 0 3 9 6 2 2 3\n",
      " 0 0 3 6 8 0 3 1 5 2 7 4 9 1 9 3 3 3 9 6 3 7 1 1 0 3 1 3 8 0 8 6 2 4 9 7 6\n",
      " 5 3 9 8 3 9 1 6 6 3 9 0 2 7 6 8 5 1 0 0 5 8 0 8 3 1 1 5 8 4 6 2 4 6 9 1 1\n",
      " 0 7 0 8 4 8 6 2 2 4 8 0 8 0 1 0 6 6 3 9 5 8 7 3 2 1 5 9 0 8 5 5 9 1 0 4 6\n",
      " 0 3 7 7 6 7 5 2 7 6 5 3 2 3 1 2 2 2 6 7 3 6 8 0 0 3 1 4 7 0 7 1 8 5 9 2 1\n",
      " 9 4 1 9 0 6 5 7 2 2 1 2 1 8 1 9 3 9 2 0 4 8 1 3 4 6 8 7 3 7 8 8 1 9 0 4 4\n",
      " 0 0 7 0 6 3 0 6 7 3 3 9 7 1 1 2 2 6 9 7 9 8 0 1 5 7 7 7 4 4 3 5 6 7 7 3 6\n",
      " 8 9 9 1 8 4 9 7 0 7 1 7 2 5 6 5 9 0 7 8 3 5 9 7 2 4 7 9 2 1 0 9 4 8 3 9 5\n",
      " 9 2 3 4 3 2 7 7 2 3 2 4 8 5 7 3 6 1 9 1 0 7 0 4 8 9 1 1 0 9 5 9 1 2 4 6 4\n",
      " 0 0 3 8 9 1 0 4 2 9 2 7 2 0 9 7 9 1 4 0 2 4 1 8 2 9 5 1 2 9 2 6 0 4 4 7 1\n",
      " 1 7 7 4 1 6 7 3 6 5 8 6 2 7 3 0 0 1 2 6 0 6 5 3 6 8 1 8 0 3 9 8 9 5 3 9 8\n",
      " 2 6 0 1 7 5 4 6 8 9 1 5 2 3 0 2 8 6 1 1 8 3 4 7 4 9 3 8 2 0 0 3 9 6 8 6 9\n",
      " 1 0 3 6 6 2 5 2 1 2 2 3 5 9 2 1 3 2 3 7 3 2 2 3 1 9 7 7 8 7 1 4 1 5 9 0 8\n",
      " 1 4 7 1 1 3 1 0 8 1 3 4 7 9 4 8 9 2 9 6 2 1 2 8 4 1 7 0 9 9 8 1 6 9 2 5 2\n",
      " 1] [7 5 8 8 9 0 0 8 0 4 6 1 9 0 0 4 4 3 4 5 7 1 5 4 9 6 1 3 1 5 9 1 7 3 5 6 3\n",
      " 5 0 3 9 2 3 0 5 6 3 8 7 9 7 8 7 3 8 5 0 0 5 2 8 6 1 1 3 9 3 9 1 7 5 1 4 7\n",
      " 8 8 6 5 7 2 3 4 8 8 4 2 6 2 4 4 4 4 1 0 2 1 4 1 1 5 4 0 6 8 7 0 7 7 3 3 1\n",
      " 9 2 0 6 3 4 4 8 2 4 3 1 8 8 9 0 8 2 2 1 3 4 7 8 2 6 7 8 1 1 7 0 0 9 4 1 0\n",
      " 5 8 4 1 6 1 7 3 1 8 8 1 7 8 8 7 0 3 6 3 5 7 1 0 1 5 9 6 9 3 0 5 9 7 9 1 4\n",
      " 5 6 6 6 1 6 9 4 7 3 2 7 3 7 4 4 4 1 2 5 5 2 1 6 5 7 2 9 9 4 3 8 9 5 3 4 0\n",
      " 9 6 2 5 4 6 6 9 3 7 4 7 9 9 6 3 6 8 4 2 9 5 5 3 3 4 0 7 8 0 7 1 5 7 8 4 0\n",
      " 2 9 8 3 2 3 1 9 2 1 0 8 5 2 4 1 8 2 3 9 1 6 2 5 5 8 1 2 2 9 8 7 4 7 9 2 4\n",
      " 1 8 0 0 8 8 8 2 9 6 0 1 4 0 0 7 3 7 0 5 8 2 2 0 6 1 0 0 6 1 5 0 9 5 7 0 9\n",
      " 0 0 3 9 6 1 0 5 2 7 7 8 0 9 4 2 8 8 4 6 0 7 8 1 3 0 1 3 4 5 1 8 8 3 9 3 6\n",
      " 0 3 6 0 6 2 2 2 7 8 9 5 7 8 7 5 5 1 8 4 8 1 4 8 5 3 6 2 2 9 8 3 2 3 7 9 9\n",
      " 0 3 8 6 4 2 6 1 0 0 9 4 9 4 3 6 4 3 7 3 8 0 9 4 2 8 9 2 6 7 2 6 5 7 4 1 5\n",
      " 3 4 5 6 5 6 0 1 3 7 7 6 1 9 8 0 5 1 5 1 7 9 3 0 5 8 4 4 2 7 6 3 4 9 3 1 9\n",
      " 5 9 7 8 4 9 3 4 5 3 4 8 2 3 9 4 1 9 7 9 1 8 1 6 5 4 5 5 4 2 0 3 7 5 2 2 3\n",
      " 0 0 3 6 6 0 3 1 5 2 7 4 9 1 9 3 3 3 3 6 5 7 1 1 0 3 1 3 8 0 9 6 2 4 7 7 6\n",
      " 5 5 9 8 3 9 1 6 5 3 9 0 2 7 5 1 5 1 0 0 8 8 0 8 3 1 1 5 8 4 6 2 4 6 3 1 1\n",
      " 6 7 0 8 4 8 6 2 4 4 8 0 8 0 1 0 6 6 3 9 5 8 7 3 2 1 5 4 0 8 6 5 9 7 0 4 6\n",
      " 0 2 7 9 6 8 5 2 7 6 5 3 2 3 1 2 2 7 6 7 3 6 8 0 0 3 1 4 7 0 7 1 9 5 9 2 1\n",
      " 9 4 1 9 0 6 5 7 6 2 1 2 1 8 1 9 3 9 2 0 4 8 1 3 4 6 8 7 2 7 8 8 1 9 0 4 4\n",
      " 0 0 7 0 6 2 0 6 7 3 3 9 7 1 1 2 2 6 9 7 9 8 0 1 5 7 7 7 4 4 3 6 6 7 7 3 6\n",
      " 3 9 9 1 8 4 7 7 0 7 1 7 2 5 6 5 9 0 7 4 3 7 9 7 2 4 8 5 2 1 0 9 4 8 8 2 5\n",
      " 9 2 3 4 3 2 7 7 2 3 2 6 2 5 7 3 6 1 9 1 0 7 0 4 8 4 1 1 0 9 8 9 1 2 4 6 6\n",
      " 0 0 3 8 9 1 0 4 2 9 4 7 2 0 9 7 9 1 4 0 2 4 1 8 2 9 5 6 2 9 2 6 0 4 9 7 1\n",
      " 1 7 7 4 1 6 7 3 6 5 8 6 2 7 3 5 0 1 1 6 0 6 5 3 6 8 1 8 0 3 9 8 9 5 3 9 8\n",
      " 2 6 0 1 9 5 4 6 8 9 1 5 2 3 0 2 5 5 4 1 8 3 4 7 5 9 3 2 2 0 0 3 9 6 2 1 9\n",
      " 1 0 5 6 6 2 5 2 1 2 7 5 5 9 7 1 3 2 5 7 3 2 2 3 2 4 9 7 8 7 1 6 1 5 9 5 8\n",
      " 1 4 7 1 1 3 1 0 8 1 3 4 7 8 9 8 9 2 9 6 2 1 2 8 4 1 7 0 9 9 8 1 6 9 7 6 2\n",
      " 1]\n"
     ]
    },
    {
     "data": {
      "text/plain": [
       "0.858"
      ]
     },
     "execution_count": 12,
     "metadata": {},
     "output_type": "execute_result"
    }
   ],
   "source": [
    "dev_predictions = make_predictions(X_dev, W1, b1, W2, b2)\n",
    "get_accuracy(dev_predictions, Y_dev)"
   ]
  }
 ],
 "metadata": {
  "kaggle": {
   "accelerator": "none",
   "dataSources": [
    {
     "databundleVersionId": 861823,
     "sourceId": 3004,
     "sourceType": "competition"
    }
   ],
   "dockerImageVersionId": 30698,
   "isGpuEnabled": false,
   "isInternetEnabled": false,
   "language": "python",
   "sourceType": "notebook"
  },
  "kernelspec": {
   "display_name": "Python 3",
   "language": "python",
   "name": "python3"
  },
  "language_info": {
   "codemirror_mode": {
    "name": "ipython",
    "version": 3
   },
   "file_extension": ".py",
   "mimetype": "text/x-python",
   "name": "python",
   "nbconvert_exporter": "python",
   "pygments_lexer": "ipython3",
   "version": "3.10.13"
  },
  "papermill": {
   "default_parameters": {},
   "duration": 63.01647,
   "end_time": "2024-05-17T18:56:04.356818",
   "environment_variables": {},
   "exception": null,
   "input_path": "__notebook__.ipynb",
   "output_path": "__notebook__.ipynb",
   "parameters": {},
   "start_time": "2024-05-17T18:55:01.340348",
   "version": "2.5.0"
  }
 },
 "nbformat": 4,
 "nbformat_minor": 5
}
